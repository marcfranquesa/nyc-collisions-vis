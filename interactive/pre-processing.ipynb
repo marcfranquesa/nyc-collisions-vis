{
 "cells": [
  {
   "cell_type": "markdown",
   "metadata": {},
   "source": [
    "# VI: Second Practical Work\n",
    "\n",
    "**Authors:** Gerard Comas & Marc Franquesa.\n"
   ]
  },
  {
   "cell_type": "markdown",
   "metadata": {},
   "source": [
    "## Data Processing\n",
    "Processing all datasets in this notebook"
   ]
  },
  {
   "cell_type": "code",
   "execution_count": null,
   "metadata": {},
   "outputs": [],
   "source": [
    "# Initial imports\n",
    "import pandas as pd\n",
    "import numpy as np\n",
    "import altair as alt\n",
    "import geopandas as gpd\n",
    "import warnings\n",
    "from shapely.geometry import shape, Point\n",
    "\n",
    "warnings.simplefilter(action=\"ignore\", category=FutureWarning)"
   ]
  },
  {
   "cell_type": "markdown",
   "metadata": {},
   "source": [
    "### Collisions dataset"
   ]
  },
  {
   "cell_type": "code",
   "execution_count": null,
   "metadata": {},
   "outputs": [],
   "source": [
    "# read the dataset\n",
    "collisions = pd.read_csv(\"./original-data/collisions.csv\")\n",
    "\n",
    "collisions.head()"
   ]
  },
  {
   "cell_type": "code",
   "execution_count": null,
   "metadata": {},
   "outputs": [],
   "source": [
    "# select only the values from 2018\n",
    "collisions = collisions[collisions[\"CRASH DATETIME\"] < \"2019-01-01\"] \n",
    "\n",
    "# select only the columns we need\n",
    "collisions = collisions[[\"CRASH DATETIME\", \"BOROUGH\", \"LOCATION\", \"ORIGINAL VEHICLE\"]]"
   ]
  },
  {
   "cell_type": "code",
   "execution_count": null,
   "metadata": {},
   "outputs": [],
   "source": [
    "categories = {\n",
    "    \"Taxi\": [\"Taxi\"],\n",
    "    \"Ambulance\": [\"Ambulance\", \"AMBUL\", \"Ambul\", \"ambul\", \"AMB\", \"AMBU\", \"AMBULANCE\"],\n",
    "    \"Fire truck\": [\"Fire\", \"FIRET\", \"FIRE\", \"FDNY\", \"fdny\", \"FD tr\", \"fd tr\", \"firet\", \"fire\"],\n",
    "}\n",
    "\n",
    "reverse_categories = {val: key for key, values in categories.items() for val in values}\n",
    "\n",
    "# Assume df is your DataFrame and 'column_name' is the column you want to classify\n",
    "collisions[\"VEHICLE\"] = collisions[\"ORIGINAL VEHICLE\"].map(reverse_categories).fillna(\"Other\")"
   ]
  },
  {
   "cell_type": "code",
   "execution_count": null,
   "metadata": {},
   "outputs": [],
   "source": [
    "collisions[\"VEHICLE\"].unique()"
   ]
  },
  {
   "cell_type": "code",
   "execution_count": null,
   "metadata": {},
   "outputs": [],
   "source": [
    "collisions.head()"
   ]
  },
  {
   "cell_type": "code",
   "execution_count": null,
   "metadata": {},
   "outputs": [],
   "source": [
    "collisions.to_csv(\"./processed-data/collisions.csv\", index=False)"
   ]
  },
  {
   "cell_type": "markdown",
   "metadata": {},
   "source": [
    "### Weather dataset"
   ]
  },
  {
   "cell_type": "code",
   "execution_count": null,
   "metadata": {},
   "outputs": [],
   "source": [
    "weather = pd.read_csv(\"./original-data/weather2018.csv\")"
   ]
  },
  {
   "cell_type": "code",
   "execution_count": null,
   "metadata": {},
   "outputs": [],
   "source": [
    "weather = weather[[\"datetime\", \"icon\"]]\n",
    "weather[\"icon\"].unique()"
   ]
  },
  {
   "cell_type": "code",
   "execution_count": null,
   "metadata": {},
   "outputs": [],
   "source": [
    "weather.to_csv(\"./processed-data/weather.csv\", index=False)"
   ]
  },
  {
   "cell_type": "markdown",
   "metadata": {},
   "source": [
    "### NYC Map"
   ]
  },
  {
   "cell_type": "code",
   "execution_count": null,
   "metadata": {},
   "outputs": [],
   "source": [
    "map_data = gpd.read_file(f\"./original-data/map.geojson\")\n",
    "\n",
    "collisions[\"DISTRICT\"] = collisions[\"LOCATION\"].apply(\n",
    "    lambda x: [-1] if x != x else np.where(map_data.contains(Point(x[1], x[0])))[0]\n",
    ")\n",
    "\n",
    "collisions[\"DISTRICT\"] = collisions[\"DISTRICT\"].apply(lambda x: -1 if len(x) == 0 else x[0]).replace(-1, np.nan)\n",
    "\n",
    "map_data[\"COLLISIONS\"] = collisions.groupby([\"DISTRICT\"]).size()\n",
    "\n",
    "map_data[\"AREA\"] = map_data[\"geometry\"].area\n",
    "\n",
    "map_data[\"AREA PROPORTION\"] = map_data[\"AREA\"] / map_data[\"AREA\"].sum()\n",
    "\n",
    "# Value found online (wikipedia)\n",
    "map_data[\"AREA KM2\"] = 783.84 * map_data[\"AREA PROPORTION\"]\n",
    "\n",
    "map_data[\"COLLISIONS / KM2\"] = map_data[\"COLLISIONS\"] / map_data[\"AREA KM2\"]"
   ]
  }
 ],
 "metadata": {
  "kernelspec": {
   "display_name": "Python 3",
   "language": "python",
   "name": "python3"
  },
  "language_info": {
   "codemirror_mode": {
    "name": "ipython",
    "version": 3
   },
   "file_extension": ".py",
   "mimetype": "text/x-python",
   "name": "python",
   "nbconvert_exporter": "python",
   "pygments_lexer": "ipython3",
   "version": "3.11.7"
  }
 },
 "nbformat": 4,
 "nbformat_minor": 2
}
