{
 "cells": [
  {
   "cell_type": "markdown",
   "metadata": {},
   "source": [
    "# VI: Second Practical Work\n",
    "\n",
    "**Authors:** Gerard Comas & Marc Franquesa.\n"
   ]
  },
  {
   "cell_type": "markdown",
   "metadata": {},
   "source": [
    "## Data Processing\n",
    "Processing all datasets in this notebook"
   ]
  },
  {
   "cell_type": "code",
   "execution_count": null,
   "metadata": {},
   "outputs": [],
   "source": [
    "# Initial imports\n",
    "import pandas as pd\n",
    "import numpy as np\n",
    "import altair as alt\n",
    "import geopandas as gpd\n",
    "import warnings\n",
    "from shapely.geometry import shape, Point\n",
    "\n",
    "warnings.simplefilter(action=\"ignore\", category=FutureWarning)"
   ]
  },
  {
   "cell_type": "markdown",
   "metadata": {},
   "source": [
    "### Collisions dataset"
   ]
  },
  {
   "cell_type": "code",
   "execution_count": 2,
   "metadata": {},
   "outputs": [],
   "source": [
    "# read the dataset\n",
    "collisions = pd.read_csv(\"./original-data/collisions.csv\")"
   ]
  },
  {
   "cell_type": "code",
   "execution_count": 3,
   "metadata": {},
   "outputs": [],
   "source": [
    "# select only the values from 2018\n",
    "collisions = collisions[collisions['CRASH DATETIME'] < '2019-01-01'] \n",
    "\n",
    "# select only the columns we need\n",
    "collisions = collisions[['CRASH DATETIME', 'BOROUGH', 'ORIGINAL VEHICLE']]"
   ]
  },
  {
   "cell_type": "code",
   "execution_count": 4,
   "metadata": {},
   "outputs": [
    {
     "data": {
      "text/plain": [
       "array(['Sedan', 'Pick-up Truck', 'Station Wagon/Sport Utility Vehicle',\n",
       "       'Taxi', 'Tractor Truck Diesel', 'Bus', 'Bike', 'Box Truck', 'PK',\n",
       "       'Motorcycle', 'Van', 'Garbage or Refuse', 'Dump', 'Flat Bed',\n",
       "       'Carry All', 'SCOOT', 'Convertible', 'Tractor Truck Gasoline',\n",
       "       'unknown', 'FREIG', 'Chassis Cab', 'Lift Boom', 'Ambulance',\n",
       "       'Multi-Wheeled Vehicle', 'Tanker', 'AMBUL', 'VAN T', 'MINI',\n",
       "       'Tow Truck / Wrecker', 'Garba', 'motor', 'Lunch Wagon', 'E-Bik',\n",
       "       'Ambul', 'FDNY', 'SCHOO', 'Motorbike', 'Flat Rack',\n",
       "       'Concrete Mixer', 'Open Body', 'Stake or Rack', 'DUMP', 'Comm',\n",
       "       'Armored Truck', 'FLAT', 'Fire', 'Motorscooter', 'van', 'Sanit',\n",
       "       'mail', 'RV', 'Tow Truck', 'AMBU', 'GARBA', 'ambul', 'FIRET',\n",
       "       'TRUCK', 'FIRE', 'Van Camper', 'SELF', 'WORKH', 'FORKL', 'Tract',\n",
       "       '3-Door', 'bus', 'freig', 'DELIV', 'DELV', 'Refrigerated Van',\n",
       "       'Beverage Truck', 'trail', 'PICKU', 'Dumps', 'forkl', 'fire',\n",
       "       'TRK', 'Moped', 'ELECT', '2- to', 'Pedicab', 'BROOM', 'USPS',\n",
       "       'TRAIL', 'EBIKE', 'Trail', 'Glass Rack', 'Motorized Home',\n",
       "       'US POSTAL', 'BLOCK', 'pas', 'COM', 'CONCR', 'CHERR', 'UNK', 'UTV',\n",
       "       'MOTOR', 'MTA B', 'TRACT', 'NYC', 'MOPED', 'UHAUL', 'School Bus',\n",
       "       'TRAILER', 'scoot', 'FED E', 'Livestock Rack', 'COMME', 'TRLR',\n",
       "       'LOADE', 'Minibike', 'rv', 'TOWER', 'Pick', 'SWT', 'SCOOTER',\n",
       "       'AMB', 'NS AM', 'UNKNO', 'NEW Y', 'TOW T', 'GRAY', 'tract',\n",
       "       'STREE', 'MAIL', 'e-bik', 'unk', 'PSD', 'box t', 'CRANE', 'garba',\n",
       "       'Pickup with mounted Camper', 'FRONT', 'Sprin', 'delv', 'POWER',\n",
       "       'CAMP', 'Enclosed Body - Removable Enclosure', 'RGS', 'GOVER',\n",
       "       'FORK', 'UTILI', 'POSTO', 'firet', 'WORK', 'R/V C', 'sgws',\n",
       "       'Cat 9', 'BACKH', 'STAK', 'E-MOT', 'MACK', 'SPC', 'fork', 'OMR',\n",
       "       'moped', 'semi', 'FORK-', 'Wheel', 'Utili', 'E-BIK', 'fd tr',\n",
       "       'SWEEP', 'BOX T', 'CASE', 'FD TR', 'Work', 'LIBER', 'fdny', 'COMB',\n",
       "       'HEAVY', 'DUMPS', 'MTA b', 'Hopper', 'UTIL', 'R/V', 'FOOD',\n",
       "       'FD tr', 'Spc', 'Bulk Agriculture', 'BED T', 'Pallet', 'comme',\n",
       "       'UPS T', 'Minicycle', 'PAS', 'BICYC', 'Subn', 'WHEEL', 'truck',\n",
       "       'Util', 'ACCES', 'e sco', 'BOBCA', 'TANK', 'TRACK', 'utili',\n",
       "       'DEMA-', 'tow', 'dump', 'Elect', 'deliv', 'Backh', '99999',\n",
       "       'BULLD', 'seagr', 'schoo', 'CONST', 'self', 'BK', 'Semi', 'Scoot',\n",
       "       'NYPD'], dtype=object)"
      ]
     },
     "execution_count": 4,
     "metadata": {},
     "output_type": "execute_result"
    }
   ],
   "source": [
    "collisions['ORIGINAL VEHICLE'].unique()"
   ]
  },
  {
   "cell_type": "code",
   "execution_count": 5,
   "metadata": {},
   "outputs": [],
   "source": [
    "vehicles = [\n",
    "    'Sedan', 'Pick-up Truck', 'Station Wagon/Sport Utility Vehicle',\n",
    "    'Taxi', 'Tractor Truck Diesel', 'Bus', 'Bike', 'Box Truck', 'PK',\n",
    "    'Motorcycle', 'Van', 'Garbage or Refuse', 'Dump', 'Flat Bed',\n",
    "    'Carry All', 'SCOOT', 'Convertible', 'Tractor Truck Gasoline',\n",
    "    'unknown', 'FREIG', 'Chassis Cab', 'Lift Boom', 'Ambulance',\n",
    "    'Multi-Wheeled Vehicle', 'Tanker', 'AMBUL', 'VAN T', 'MINI',\n",
    "    'Tow Truck / Wrecker', 'Garba', 'motor', 'Lunch Wagon', 'E-Bik',\n",
    "    'Ambul', 'FDNY', 'SCHOO', 'Motorbike', 'Flat Rack',\n",
    "    'Concrete Mixer', 'Open Body', 'Stake or Rack', 'DUMP', 'Comm',\n",
    "    'Armored Truck', 'FLAT', 'Fire', 'Motorscooter', 'van', 'Sanit',\n",
    "    'mail', 'RV', 'Tow Truck', 'AMBU', 'GARBA', 'ambul', 'FIRET',\n",
    "    'TRUCK', 'FIRE', 'Van Camper', 'SELF', 'WORKH', 'FORKL', 'Tract',\n",
    "    '3-Door', 'bus', 'freig', 'DELIV', 'DELV', 'Refrigerated Van',\n",
    "    'Beverage Truck', 'trail', 'PICKU', 'Dumps', 'forkl', 'fire',\n",
    "    'TRK', 'Moped', 'ELECT', '2- to', 'Pedicab', 'BROOM', 'USPS',\n",
    "    'TRAIL', 'EBIKE', 'Trail', 'Glass Rack', 'Motorized Home',\n",
    "    'US POSTAL', 'BLOCK', 'pas', 'COM', 'CONCR', 'CHERR', 'UNK', 'UTV',\n",
    "    'MOTOR', 'MTA B', 'TRACT', 'NYC', 'MOPED', 'UHAUL', 'School Bus',\n",
    "    'TRAILER', 'scoot', 'FED E', 'Livestock Rack', 'COMME', 'TRLR',\n",
    "    'LOADE', 'Minibike', 'rv', 'TOWER', 'Pick', 'SWT', 'SCOOTER',\n",
    "    'AMB', 'NS AM', 'UNKNO', 'NEW Y', 'TOW T', 'GRAY', 'tract',\n",
    "    'STREE', 'MAIL', 'e-bik', 'unk', 'PSD', 'box t', 'CRANE', 'garba',\n",
    "    'Pickup with mounted Camper', 'FRONT', 'Sprin', 'delv', 'POWER',\n",
    "    'CAMP', 'Enclosed Body - Removable Enclosure', 'RGS', 'GOVER',\n",
    "    'FORK', 'UTILI', 'POSTO', 'firet', 'WORK', 'R/V C', 'sgws',\n",
    "    'Cat 9', 'BACKH', 'STAK', 'E-MOT', 'MACK', 'SPC', 'fork', 'OMR',\n",
    "    'moped', 'semi', 'FORK-', 'Wheel', 'Utili', 'E-BIK', 'fd tr',\n",
    "    'SWEEP', 'BOX T', 'CASE', 'FD TR', 'Work', 'LIBER', 'fdny', 'COMB',\n",
    "    'HEAVY', 'DUMPS', 'MTA b', 'Hopper', 'UTIL', 'R/V', 'FOOD',\n",
    "    'FD tr', 'Spc', 'Bulk Agriculture', 'BED T', 'Pallet', 'comme',\n",
    "    'UPS T', 'Minicycle', 'PAS', 'BICYC', 'Subn', 'WHEEL', 'truck',\n",
    "    'Util', 'ACCES', 'e sco', 'BOBCA', 'TANK', 'TRACK', 'utili',\n",
    "    'DEMA-', 'tow', 'dump', 'Elect', 'deliv', 'Backh', '99999',\n",
    "    'BULLD', 'seagr', 'schoo', 'CONST', 'self', 'BK', 'Semi', 'Scoot',\n",
    "    'NYPD'\n",
    "]\n",
    "\n",
    "categories = {\n",
    "    'Taxi': ['Taxi'],\n",
    "    'Ambulance': ['Ambulance', 'AMBUL', 'Ambul', 'ambul', 'AMB', 'AMBU', 'AMBULANCE'],\n",
    "    'Fire truck': ['Fire', 'FIRET', 'FIRE', 'FDNY', 'fdny', 'FD tr', 'fd tr', 'firet', 'fire'],\n",
    "    'Other': []\n",
    "}\n",
    "\n",
    "for vehicle in vehicles:\n",
    "    agregado = False\n",
    "    for category, keys in categories.items():\n",
    "        for key in keys:\n",
    "            if key.lower() in vehicle.lower():\n",
    "                categories[category].append(vehicle)\n",
    "                agregado = True\n",
    "                break\n",
    "        if agregado:\n",
    "            break\n",
    "    if not agregado:\n",
    "        categories['Other'].append(vehicle)\n",
    "\n",
    "classified_vehicles = {}\n",
    "\n",
    "for category, vehicles in categories.items():\n",
    "    for vehicle in vehicles:\n",
    "        classified_vehicles[vehicle] = category\n",
    "\n",
    "\n",
    "collisions[\"VEHICLE\"] = collisions[\"ORIGINAL VEHICLE\"].replace(classified_vehicles)"
   ]
  },
  {
   "cell_type": "code",
   "execution_count": 6,
   "metadata": {},
   "outputs": [
    {
     "data": {
      "text/plain": [
       "array(['Other', 'Taxi', 'Ambulance', 'Fire truck'], dtype=object)"
      ]
     },
     "execution_count": 6,
     "metadata": {},
     "output_type": "execute_result"
    }
   ],
   "source": [
    "collisions['VEHICLE'].unique()"
   ]
  },
  {
   "cell_type": "code",
   "execution_count": 7,
   "metadata": {},
   "outputs": [],
   "source": [
    "collisions.to_csv(\"./processed-data/collisions.csv\", index=False)"
   ]
  },
  {
   "cell_type": "markdown",
   "metadata": {},
   "source": [
    "### Weather dataset"
   ]
  },
  {
   "cell_type": "code",
   "execution_count": 8,
   "metadata": {},
   "outputs": [],
   "source": [
    "weather = pd.read_csv(\"./original-data/weather2018.csv\")"
   ]
  },
  {
   "cell_type": "code",
   "execution_count": 9,
   "metadata": {},
   "outputs": [
    {
     "data": {
      "text/plain": [
       "array(['rain', 'partly-cloudy-day', 'clear-day', 'cloudy'], dtype=object)"
      ]
     },
     "execution_count": 9,
     "metadata": {},
     "output_type": "execute_result"
    }
   ],
   "source": [
    "weather = weather[['datetime', 'icon']]\n",
    "weather['icon'].unique()"
   ]
  },
  {
   "cell_type": "code",
   "execution_count": 10,
   "metadata": {},
   "outputs": [],
   "source": [
    "weather.to_csv(\"./processed-data/weather.csv\", index=False)"
   ]
  }
 ],
 "metadata": {
  "kernelspec": {
   "display_name": "Python 3",
   "language": "python",
   "name": "python3"
  },
  "language_info": {
   "codemirror_mode": {
    "name": "ipython",
    "version": 3
   },
   "file_extension": ".py",
   "mimetype": "text/x-python",
   "name": "python",
   "nbconvert_exporter": "python",
   "pygments_lexer": "ipython3",
   "version": "3.11.5"
  }
 },
 "nbformat": 4,
 "nbformat_minor": 2
}
