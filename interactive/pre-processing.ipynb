{
 "cells": [
  {
   "cell_type": "markdown",
   "metadata": {},
   "source": [
    "# VI: Second Practical Work\n",
    "\n",
    "**Authors:** Gerard Comas & Marc Franquesa.\n"
   ]
  },
  {
   "cell_type": "markdown",
   "metadata": {},
   "source": [
    "## Data Processing\n",
    "Processing all datasets in this notebook"
   ]
  },
  {
   "cell_type": "code",
   "execution_count": 24,
   "metadata": {},
   "outputs": [],
   "source": [
    "# Initial imports\n",
    "import pandas as pd\n",
    "import numpy as np\n",
    "import altair as alt\n",
    "import geopandas as gpd\n",
    "import warnings\n",
    "from shapely.geometry import shape, Point\n",
    "\n",
    "warnings.simplefilter(action=\"ignore\", category=FutureWarning)"
   ]
  },
  {
   "cell_type": "markdown",
   "metadata": {},
   "source": [
    "### Collisions dataset"
   ]
  },
  {
   "cell_type": "code",
   "execution_count": 25,
   "metadata": {},
   "outputs": [
    {
     "name": "stderr",
     "output_type": "stream",
     "text": [
      "/var/folders/wx/dp2xrdls2wlgpthn48zdv8b80000gn/T/ipykernel_19231/3907268663.py:2: DtypeWarning: Columns (2) have mixed types. Specify dtype option on import or set low_memory=False.\n",
      "  collisions = pd.read_csv(\"./original-data/collisions.csv\")\n"
     ]
    },
    {
     "data": {
      "text/html": [
       "<div>\n",
       "<style scoped>\n",
       "    .dataframe tbody tr th:only-of-type {\n",
       "        vertical-align: middle;\n",
       "    }\n",
       "\n",
       "    .dataframe tbody tr th {\n",
       "        vertical-align: top;\n",
       "    }\n",
       "\n",
       "    .dataframe thead th {\n",
       "        text-align: right;\n",
       "    }\n",
       "</style>\n",
       "<table border=\"1\" class=\"dataframe\">\n",
       "  <thead>\n",
       "    <tr style=\"text-align: right;\">\n",
       "      <th></th>\n",
       "      <th>CRASH DATETIME</th>\n",
       "      <th>CRASH WEEKDAY</th>\n",
       "      <th>AFTER COVID</th>\n",
       "      <th>BOROUGH</th>\n",
       "      <th>LATITUDE</th>\n",
       "      <th>LONGITUDE</th>\n",
       "      <th>NUMBER OF PERSONS INJURED</th>\n",
       "      <th>NUMBER OF PERSONS KILLED</th>\n",
       "      <th>ORIGINAL VEHICLE</th>\n",
       "      <th>VEHICLE</th>\n",
       "      <th>ORIGINAL FACTOR</th>\n",
       "      <th>FACTOR</th>\n",
       "      <th>LOCATION</th>\n",
       "      <th>tmpf</th>\n",
       "      <th>relh</th>\n",
       "      <th>sknt</th>\n",
       "      <th>p01i</th>\n",
       "      <th>vsby</th>\n",
       "      <th>DISTRICT</th>\n",
       "    </tr>\n",
       "  </thead>\n",
       "  <tbody>\n",
       "    <tr>\n",
       "      <th>0</th>\n",
       "      <td>2020-09-06 18:00:00</td>\n",
       "      <td>Sunday</td>\n",
       "      <td>True</td>\n",
       "      <td>NaN</td>\n",
       "      <td>40.771038</td>\n",
       "      <td>-73.834130</td>\n",
       "      <td>0.0</td>\n",
       "      <td>1.0</td>\n",
       "      <td>Station Wagon/Sport Utility Vehicle</td>\n",
       "      <td>Car</td>\n",
       "      <td>Unsafe Lane Changing</td>\n",
       "      <td>Driving Infraction</td>\n",
       "      <td>[40.771038, -73.83413]</td>\n",
       "      <td>27.222222</td>\n",
       "      <td>42.19</td>\n",
       "      <td>0.0</td>\n",
       "      <td>0.0</td>\n",
       "      <td>16.09344</td>\n",
       "      <td>4.0</td>\n",
       "    </tr>\n",
       "    <tr>\n",
       "      <th>1</th>\n",
       "      <td>2020-09-06 18:00:00</td>\n",
       "      <td>Sunday</td>\n",
       "      <td>True</td>\n",
       "      <td>BRONX</td>\n",
       "      <td>40.888450</td>\n",
       "      <td>-73.841965</td>\n",
       "      <td>0.0</td>\n",
       "      <td>0.0</td>\n",
       "      <td>Station Wagon/Sport Utility Vehicle</td>\n",
       "      <td>Car</td>\n",
       "      <td>Failure to Yield Right-of-Way</td>\n",
       "      <td>Driving Infraction</td>\n",
       "      <td>[40.88845, -73.841965]</td>\n",
       "      <td>27.222222</td>\n",
       "      <td>42.19</td>\n",
       "      <td>0.0</td>\n",
       "      <td>0.0</td>\n",
       "      <td>16.09344</td>\n",
       "      <td>22.0</td>\n",
       "    </tr>\n",
       "    <tr>\n",
       "      <th>2</th>\n",
       "      <td>2020-09-06 18:00:00</td>\n",
       "      <td>Sunday</td>\n",
       "      <td>True</td>\n",
       "      <td>NaN</td>\n",
       "      <td>40.638527</td>\n",
       "      <td>-73.878530</td>\n",
       "      <td>1.0</td>\n",
       "      <td>0.0</td>\n",
       "      <td>Station Wagon/Sport Utility Vehicle</td>\n",
       "      <td>Car</td>\n",
       "      <td>Driver Inattention/Distraction</td>\n",
       "      <td>Driver Inattention</td>\n",
       "      <td>[40.638527, -73.87853]</td>\n",
       "      <td>27.222222</td>\n",
       "      <td>42.19</td>\n",
       "      <td>0.0</td>\n",
       "      <td>0.0</td>\n",
       "      <td>16.09344</td>\n",
       "      <td>NaN</td>\n",
       "    </tr>\n",
       "    <tr>\n",
       "      <th>3</th>\n",
       "      <td>2020-09-06 18:00:00</td>\n",
       "      <td>Sunday</td>\n",
       "      <td>True</td>\n",
       "      <td>BRONX</td>\n",
       "      <td>40.806840</td>\n",
       "      <td>-73.927500</td>\n",
       "      <td>0.0</td>\n",
       "      <td>0.0</td>\n",
       "      <td>Station Wagon/Sport Utility Vehicle</td>\n",
       "      <td>Car</td>\n",
       "      <td>Unspecified</td>\n",
       "      <td>Unspecified</td>\n",
       "      <td>[40.80684, -73.9275]</td>\n",
       "      <td>27.222222</td>\n",
       "      <td>42.19</td>\n",
       "      <td>0.0</td>\n",
       "      <td>0.0</td>\n",
       "      <td>16.09344</td>\n",
       "      <td>50.0</td>\n",
       "    </tr>\n",
       "    <tr>\n",
       "      <th>4</th>\n",
       "      <td>2020-09-06 18:00:00</td>\n",
       "      <td>Sunday</td>\n",
       "      <td>True</td>\n",
       "      <td>BROOKLYN</td>\n",
       "      <td>40.710430</td>\n",
       "      <td>-73.943700</td>\n",
       "      <td>0.0</td>\n",
       "      <td>0.0</td>\n",
       "      <td>Sedan</td>\n",
       "      <td>Car</td>\n",
       "      <td>Driver Inattention/Distraction</td>\n",
       "      <td>Driver Inattention</td>\n",
       "      <td>[40.71043, -73.9437]</td>\n",
       "      <td>27.222222</td>\n",
       "      <td>42.19</td>\n",
       "      <td>0.0</td>\n",
       "      <td>0.0</td>\n",
       "      <td>16.09344</td>\n",
       "      <td>68.0</td>\n",
       "    </tr>\n",
       "  </tbody>\n",
       "</table>\n",
       "</div>"
      ],
      "text/plain": [
       "        CRASH DATETIME CRASH WEEKDAY AFTER COVID   BOROUGH   LATITUDE  \\\n",
       "0  2020-09-06 18:00:00        Sunday        True       NaN  40.771038   \n",
       "1  2020-09-06 18:00:00        Sunday        True     BRONX  40.888450   \n",
       "2  2020-09-06 18:00:00        Sunday        True       NaN  40.638527   \n",
       "3  2020-09-06 18:00:00        Sunday        True     BRONX  40.806840   \n",
       "4  2020-09-06 18:00:00        Sunday        True  BROOKLYN  40.710430   \n",
       "\n",
       "   LONGITUDE  NUMBER OF PERSONS INJURED  NUMBER OF PERSONS KILLED  \\\n",
       "0 -73.834130                        0.0                       1.0   \n",
       "1 -73.841965                        0.0                       0.0   \n",
       "2 -73.878530                        1.0                       0.0   \n",
       "3 -73.927500                        0.0                       0.0   \n",
       "4 -73.943700                        0.0                       0.0   \n",
       "\n",
       "                      ORIGINAL VEHICLE VEHICLE  \\\n",
       "0  Station Wagon/Sport Utility Vehicle     Car   \n",
       "1  Station Wagon/Sport Utility Vehicle     Car   \n",
       "2  Station Wagon/Sport Utility Vehicle     Car   \n",
       "3  Station Wagon/Sport Utility Vehicle     Car   \n",
       "4                                Sedan     Car   \n",
       "\n",
       "                  ORIGINAL FACTOR              FACTOR                LOCATION  \\\n",
       "0            Unsafe Lane Changing  Driving Infraction  [40.771038, -73.83413]   \n",
       "1   Failure to Yield Right-of-Way  Driving Infraction  [40.88845, -73.841965]   \n",
       "2  Driver Inattention/Distraction  Driver Inattention  [40.638527, -73.87853]   \n",
       "3                     Unspecified         Unspecified    [40.80684, -73.9275]   \n",
       "4  Driver Inattention/Distraction  Driver Inattention    [40.71043, -73.9437]   \n",
       "\n",
       "        tmpf   relh  sknt  p01i      vsby  DISTRICT  \n",
       "0  27.222222  42.19   0.0   0.0  16.09344       4.0  \n",
       "1  27.222222  42.19   0.0   0.0  16.09344      22.0  \n",
       "2  27.222222  42.19   0.0   0.0  16.09344       NaN  \n",
       "3  27.222222  42.19   0.0   0.0  16.09344      50.0  \n",
       "4  27.222222  42.19   0.0   0.0  16.09344      68.0  "
      ]
     },
     "execution_count": 25,
     "metadata": {},
     "output_type": "execute_result"
    }
   ],
   "source": [
    "# read the dataset\n",
    "collisions = pd.read_csv(\"./original-data/collisions.csv\")\n",
    "\n",
    "collisions.head()"
   ]
  },
  {
   "cell_type": "code",
   "execution_count": 26,
   "metadata": {},
   "outputs": [],
   "source": [
    "# select only the values from 2018\n",
    "collisions = collisions[collisions[\"CRASH DATETIME\"] < \"2019-01-01\"] \n",
    "\n",
    "# select only the columns we need\n",
    "collisions = collisions[[\"CRASH DATETIME\", \"BOROUGH\", \"ORIGINAL VEHICLE\"]]"
   ]
  },
  {
   "cell_type": "code",
   "execution_count": 27,
   "metadata": {},
   "outputs": [],
   "source": [
    "categories = {\n",
    "    \"Taxi\": [\"Taxi\"],\n",
    "    \"Ambulance\": [\"Ambulance\", \"AMBUL\", \"Ambul\", \"ambul\", \"AMB\", \"AMBU\", \"AMBULANCE\"],\n",
    "    \"Fire truck\": [\"Fire\", \"FIRET\", \"FIRE\", \"FDNY\", \"fdny\", \"FD tr\", \"fd tr\", \"firet\", \"fire\"],\n",
    "}\n",
    "\n",
    "reverse_categories = {val: key for key, values in categories.items() for val in values}\n",
    "\n",
    "# Assume df is your DataFrame and 'column_name' is the column you want to classify\n",
    "collisions[\"VEHICLE\"] = collisions[\"ORIGINAL VEHICLE\"].map(reverse_categories).fillna(\"Other\")"
   ]
  },
  {
   "cell_type": "code",
   "execution_count": 28,
   "metadata": {},
   "outputs": [
    {
     "data": {
      "text/plain": [
       "array(['Other', 'Taxi', 'Ambulance', 'Fire truck'], dtype=object)"
      ]
     },
     "execution_count": 28,
     "metadata": {},
     "output_type": "execute_result"
    }
   ],
   "source": [
    "collisions[\"VEHICLE\"].unique()"
   ]
  },
  {
   "cell_type": "code",
   "execution_count": 29,
   "metadata": {},
   "outputs": [],
   "source": [
    "collisions.to_csv(\"./processed-data/collisions.csv\", index=False)"
   ]
  },
  {
   "cell_type": "markdown",
   "metadata": {},
   "source": [
    "### Weather dataset"
   ]
  },
  {
   "cell_type": "code",
   "execution_count": 30,
   "metadata": {},
   "outputs": [],
   "source": [
    "weather = pd.read_csv(\"./original-data/weather2018.csv\")"
   ]
  },
  {
   "cell_type": "code",
   "execution_count": 31,
   "metadata": {},
   "outputs": [
    {
     "data": {
      "text/plain": [
       "array(['rain', 'partly-cloudy-day', 'clear-day', 'cloudy'], dtype=object)"
      ]
     },
     "execution_count": 31,
     "metadata": {},
     "output_type": "execute_result"
    }
   ],
   "source": [
    "weather = weather[[\"datetime\", \"icon\"]]\n",
    "weather[\"icon\"].unique()"
   ]
  },
  {
   "cell_type": "code",
   "execution_count": 32,
   "metadata": {},
   "outputs": [],
   "source": [
    "weather.to_csv(\"./processed-data/weather.csv\", index=False)"
   ]
  },
  {
   "cell_type": "code",
   "execution_count": null,
   "metadata": {},
   "outputs": [],
   "source": []
  }
 ],
 "metadata": {
  "kernelspec": {
   "display_name": "Python 3",
   "language": "python",
   "name": "python3"
  },
  "language_info": {
   "codemirror_mode": {
    "name": "ipython",
    "version": 3
   },
   "file_extension": ".py",
   "mimetype": "text/x-python",
   "name": "python",
   "nbconvert_exporter": "python",
   "pygments_lexer": "ipython3",
   "version": "3.11.5"
  }
 },
 "nbformat": 4,
 "nbformat_minor": 2
}
