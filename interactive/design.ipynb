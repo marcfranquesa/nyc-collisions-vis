{
 "cells": [
  {
   "cell_type": "markdown",
   "metadata": {},
   "source": [
    "# VI: Second Practical Work\n",
    "\n",
    "**Authors:** Gerard Comas & Marc Franquesa."
   ]
  },
  {
   "cell_type": "code",
   "execution_count": null,
   "metadata": {},
   "outputs": [],
   "source": [
    "import pandas as pd\n",
    "import numpy as np\n",
    "import altair as alt\n",
    "import geopandas as gpd\n",
    "import warnings\n",
    "\n",
    "warnings.simplefilter(action=\"ignore\", category=FutureWarning)\n",
    "\n",
    "collisions = pd.read_csv(\"./processed-data/collisions.csv\")\n",
    "# map_data = gpd.read_file(\"./processed-data/map.geojson\")\n",
    "weather = pd.read_csv(\"./processed-data/weather.csv\")\n",
    "\n",
    "primary = \"green\"\n",
    "secondary = \"\"\n",
    "\n",
    "colors = {\n",
    "    primary: \"#66c2a4\",\n",
    "    secondary: \"\",\n",
    "}\n",
    "\n",
    "collisions.head()"
   ]
  },
  {
   "cell_type": "markdown",
   "metadata": {},
   "source": [
    "La nostre idea per a respondre a totes les preguntes d'aquest segon projecte es crear un Dashboard interactiu que tindrà la distribució següent:\n",
    "- En la primera fila tres barplots en el que es representen el total de colisions amb un filtre concret. Aquests tres barplots seràn independents. Els tres barplots compartiran l'escala i l'escala de colors per tal de poder apreciar millor les magnituds. \n",
    "    - El primer de tots serà un barplot amb el total de colisions per cada mes, amb la funcionalitat de poder seleccionat una de les barres i els gràfics de les altre files dependeràn d'aquest filtrat. Si no es selecciona cap es mostraran tots els mesos. \n",
    "    - El segon serà un barplot amb el total de colisions per cada tipus de vehicle, amb la mateixa funcionalitat que abans.\n",
    "    - El tercer i últim serà un barplot amb el total de colisions per a cada condició climàtica, amb la mateia funcionalitat que abans. \n",
    "- En la segona fila trobarem un element:\n",
    "    - Un mapa de New York, on primerament es mostrin les fronteres dels barris. Aquest mapa dera un chloropleth i l'intensitat del color indicarà el total de colisions pel filtrat seleccionat. \n",
    "        - Hem de decidir si l'escala serà independent o no del total\n",
    "        - També, podriem afegir més granularitat temporal amb un desplegable per a canviar.\n",
    "        - El mapa incorporarà un tooltip que ens identifiqui la localitació i també el nombre de colisions\n",
    "        - A més, serà interactiu i pemetrà filtrar per als gràfics de les lines inferiors.\n",
    "- En la tercera fila trobarem dos elements:\n",
    "    - Un heatmap on les files indiquen les setmanes i a les columnes els dies de la setmana. Està dissenyat per a que recordi a un calendari. Quan no s'hagi seleccionat el mes es mostrarà unes opcions per a escollir el mes a representar. El color indicarà la quantitat de colisions aquell dia.\n",
    "    - En el segon element trobarem un line chart, aquest mostrarà totes les línes per a cada area dels mesos seleccionats, si s'ha seleccionat un mes, només es mostrarnan la d'aquell mes i si s'ha seleccionat una area es resaltarà aquella linea per sobre les altres. A més, hi haurà un slider per a marcar quina hora volem analitar, indicant-nos amb punts sobre les lines els valors per a cada area i per tant poder obtenir els valors més facilment. "
   ]
  },
  {
   "cell_type": "markdown",
   "metadata": {},
   "source": [
    "Pot ser confús per l'usuari doncs no queda del tot clar quines gràfiques filtren i quines no igual que la dependencia entre gràfics. "
   ]
  },
  {
   "cell_type": "code",
   "execution_count": null,
   "metadata": {},
   "outputs": [],
   "source": [
    "collisions[\"MONTH\"] = pd.to_datetime(collisions[\"CRASH DATETIME\"]).dt.strftime(\"%B\")\n",
    "\n",
    "\n",
    "monthly_collisions = collisions.groupby(\"MONTH\").size().reset_index(name=\"counts\")\n",
    "months_order = [\"June\", \"July\", \"August\", \"September\"]\n",
    "month_selection = alt.selection_point(fields=[\"MONTH\"], empty=True)\n",
    "vehicle_order = [\"Taxi\", \"Ambulance\", \"Fire truck\"]\n",
    "vehicle_selection = alt.selection_point(fields=[\"VEHICLE\"], empty=True)\n",
    "\n",
    "months = (\n",
    "    alt.Chart(monthly_collisions)\n",
    "    .mark_bar(color=colors[primary])\n",
    "    .encode(\n",
    "        x=alt.X(\"MONTH:O\", sort=months_order, axis=alt.Axis(title=\"Month\", labelAngle=0)),\n",
    "        y=alt.Y(\"counts:Q\", axis=alt.Axis(title=\"Collisions\")),\n",
    "        opacity=alt.condition(month_selection, alt.value(1), alt.value(0.2)),\n",
    "        tooltip=[alt.Tooltip(\"counts:Q\", title=\"Collisions\")],\n",
    "    ).add_params(\n",
    "        month_selection\n",
    "    ).properties(width=250, height=175)\n",
    ")\n",
    "\n",
    "vehicles = (\n",
    "    alt.Chart(collisions)\n",
    "    .mark_bar(color=colors[primary])\n",
    "    .transform_filter(month_selection)\n",
    "    .encode(\n",
    "        x=alt.X(\"VEHICLE:N\", sort=vehicle_order, axis=None),\n",
    "        y=alt.Y(\"count():Q\", axis=alt.Axis(title=\"Collisions\")),\n",
    "        opacity=alt.condition(vehicle_selection, alt.value(1), alt.value(0.2)),\n",
    "        tooltip=[alt.Tooltip(\"VEHICLE:N\", title=\"Vehicle\"), alt.Tooltip(\"count():Q\", title=\"Collisions\")],\n",
    "    ).add_params(\n",
    "        vehicle_selection\n",
    "    ).properties(width=100, height=175)\n",
    ")\n",
    "\n",
    "emojis = (\n",
    "    alt.Chart(collisions)\n",
    "    .mark_text(size=18, align=\"center\", dy=-8)\n",
    "    .transform_filter(month_selection)\n",
    "    .encode(\n",
    "        x=alt.X(\"VEHICLE:N\"),\n",
    "        y=alt.Y(\"count():Q\"),\n",
    "        text=alt.Text(\"VEHICLE EMOJI:N\"),\n",
    "        opacity=alt.condition(vehicle_selection, alt.value(1), alt.value(0.2)),\n",
    "        tooltip=[alt.Tooltip(\"VEHICLE:N\", title=\"Vehicle\"), alt.Tooltip(\"count():Q\", title=\"Collisions\")],\n",
    "    ).add_params(\n",
    "        vehicle_selection\n",
    "    )\n",
    ")\n",
    "\n",
    "months | (vehicles + emojis)"
   ]
  }
 ],
 "metadata": {
  "kernelspec": {
   "display_name": "Python 3",
   "language": "python",
   "name": "python3"
  },
  "language_info": {
   "codemirror_mode": {
    "name": "ipython",
    "version": 3
   },
   "file_extension": ".py",
   "mimetype": "text/x-python",
   "name": "python",
   "nbconvert_exporter": "python",
   "pygments_lexer": "ipython3",
   "version": "3.11.7"
  }
 },
 "nbformat": 4,
 "nbformat_minor": 2
}
