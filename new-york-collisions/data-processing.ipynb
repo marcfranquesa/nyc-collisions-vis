{
 "cells": [
  {
   "cell_type": "code",
   "execution_count": null,
   "id": "22bbba92-799e-4490-92d2-21aa76282a1f",
   "metadata": {},
   "outputs": [],
   "source": [
    "import pandas as pd\n",
    "path = \"./data/original-data.csv\""
   ]
  },
  {
   "cell_type": "code",
   "execution_count": null,
   "id": "fa7344e3-7c79-422f-ad1b-514b813ca66b",
   "metadata": {},
   "outputs": [],
   "source": [
    "pd.read_csv(path)"
   ]
  },
  {
   "cell_type": "code",
   "execution_count": null,
   "id": "53b1307f-9b44-4eec-a145-ae8a6c984b8b",
   "metadata": {},
   "outputs": [],
   "source": []
  }
 ],
 "metadata": {
  "kernelspec": {
   "display_name": "Python 3 (ipykernel)",
   "language": "python",
   "name": "python3"
  },
  "language_info": {
   "codemirror_mode": {
    "name": "ipython",
    "version": 3
   },
   "file_extension": ".py",
   "mimetype": "text/x-python",
   "name": "python",
   "nbconvert_exporter": "python",
   "pygments_lexer": "ipython3",
   "version": "3.10.9"
  }
 },
 "nbformat": 4,
 "nbformat_minor": 5
}
