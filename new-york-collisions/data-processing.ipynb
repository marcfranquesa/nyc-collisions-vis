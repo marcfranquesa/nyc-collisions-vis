{
 "cells": [
  {
   "cell_type": "markdown",
   "id": "03a211cc-a9d5-44d7-81bd-3882b783d0d5",
   "metadata": {},
   "source": [
    "# Data Processing\n",
    "Processing all datasets in this notebook"
   ]
  },
  {
   "cell_type": "code",
   "execution_count": null,
   "id": "22bbba92-799e-4490-92d2-21aa76282a1f",
   "metadata": {},
   "outputs": [],
   "source": [
    "# Initial imports\n",
    "import pandas as pd\n",
    "from collections import Counter"
   ]
  },
  {
   "cell_type": "markdown",
   "id": "b586abad-1670-4e03-9a0d-2e88806064eb",
   "metadata": {},
   "source": [
    "## Collisions dataset"
   ]
  },
  {
   "cell_type": "code",
   "execution_count": null,
   "id": "fa7344e3-7c79-422f-ad1b-514b813ca66b",
   "metadata": {},
   "outputs": [],
   "source": [
    "collisions = pd.read_csv(\"./original-data/collisions.csv\")\n",
    "\n",
    "print(collisions.columns)\n",
    "print(f\"Initial amount of rows: {len(collisions)}\")"
   ]
  },
  {
   "cell_type": "code",
   "execution_count": null,
   "id": "8c582293-d57b-4908-a9fd-8de6d749f968",
   "metadata": {},
   "outputs": [],
   "source": [
    "# Initial column selection\n",
    "cols = [\n",
    "    \"CRASH DATE\",\n",
    "    \"CRASH TIME\",\n",
    "    \"LATITUDE\",\n",
    "    \"LONGITUDE\",\n",
    "    \"VEHICLE TYPE CODE 1\",\n",
    "    \"VEHICLE TYPE CODE 2\",\n",
    "]\n",
    "collisions = collisions[cols]\n",
    "\n",
    "# Number of missing values in each column\n",
    "print(collisions.isnull().sum())"
   ]
  },
  {
   "cell_type": "code",
   "execution_count": null,
   "id": "f87c56c3",
   "metadata": {},
   "outputs": [],
   "source": [
    "# Dropping NaNs\n",
    "collisions = collisions.dropna()\n",
    "print(f\"Current amount of rows: {len(collisions)}\")"
   ]
  },
  {
   "cell_type": "markdown",
   "id": "988d9bd9-56d8-475e-9abb-e364eeaedfb3",
   "metadata": {},
   "source": [
    "We will now remove all vehicle types appearing less than 10 times, and then we will be classifying all types into these six categories:\n",
    "* ATV\n",
    "* bicycle\n",
    "* car/suv\n",
    "* ebike\n",
    "* escooter\n",
    "* truck/bus\n",
    "* motorcycle\n",
    "* other"
   ]
  },
  {
   "cell_type": "code",
   "execution_count": null,
   "id": "8991cdfa-5680-4a68-bae6-1696120271ed",
   "metadata": {},
   "outputs": [],
   "source": [
    "# Keeping types that appear more than 10 times in the entire dataset\n",
    "# we are assuming that less than that is human error\n",
    "\n",
    "types_count = Counter()\n",
    "for i in range(2):\n",
    "    collisions[f\"VEHICLE TYPE CODE {i + 1}\"] = collisions[f\"VEHICLE TYPE CODE {i + 1}\"].str.lower()\n",
    "    types_count += Counter(dict(collisions[f\"VEHICLE TYPE CODE {i + 1}\"].value_counts()))\n",
    "types_keeping = {name for name, count in types_count.items() if count > 10}\n",
    "collisions = collisions[\n",
    "    collisions[\"VEHICLE TYPE CODE 1\"].isin(types_keeping) &\n",
    "    collisions[\"VEHICLE TYPE CODE 2\"].isin(types_keeping)\n",
    "]\n",
    "\n",
    "\n",
    "# Changing vehicle types to classification we want to use, list is found in the \n",
    "# NYC collision dataset: ATV, bicycle, car/suv, ebike, escooter, truck/bus,\n",
    "# motorcycle, other\n",
    "\n",
    "vehicle_classifications = {\n",
    "    \"sedan\": \"car/suv\",\n",
    "    \"station wagon/sport utility vehicle\": \"car/suv\",\n",
    "    \"taxi\": \"car/suv\",\n",
    "    \"pick-up truck\": \"truck/bus\",\n",
    "    \"box truck\": \"truck/bus\",\n",
    "    \"bus\": \"truck/bus\",\n",
    "    \"bike\": \"bicycle\",\n",
    "    \"tractor truck diesel\": \"truck/bus\",\n",
    "    \"motorcycle\": \"motorcycle\",\n",
    "    \"van\": \"car/suv\",\n",
    "    \"ambulance\": \"truck/bus\",\n",
    "    \"convertible\": \"car/suv\",\n",
    "    \"dump\": \"truck/bus\",\n",
    "    \"flat bed\": \"truck/bus\",\n",
    "    \"pk\": \"truck/bus\",\n",
    "    \"garbage or refuse\": \"truck/bus\",\n",
    "    \"carry all\": \"truck/bus\",\n",
    "    \"tractor truck gasoline\": \"truck/bus\",\n",
    "    \"e-scooter\": \"escooter\",\n",
    "    \"tow truck / wrecker\": \"truck/bus\",\n",
    "    \"moped\": \"motorcycle\",\n",
    "    \"chassis cab\": \"truck/bus\",\n",
    "    \"e-bike\": \"ebike\",\n",
    "    \"tanker\": \"truck/bus\",\n",
    "    \"concrete mixer\": \"truck/bus\",\n",
    "    \"ambul\": \"truck/bus\",\n",
    "    \"flat rack\": \"truck/bus\",\n",
    "    \"motorscooter\": \"motorcycle\",\n",
    "    \"motorbike\": \"motorcycle\",\n",
    "    \"refrigerated van\": \"car/suv\",\n",
    "    \"armored truck\": \"truck/bus\",\n",
    "    \"3-door\": \"car/suv\",\n",
    "    \"fire\": \"truck/bus\",\n",
    "    \"beverage truck\": \"truck/bus\",\n",
    "    \"4 dr sedan\": \"car/suv\",\n",
    "    \"trail\": \"other\",\n",
    "    \"lift boom\": \"truck/bus\",\n",
    "    \"truck\": \"truck/bus\",\n",
    "    \"fire truck\": \"truck/bus\",\n",
    "    \"stake or rack\": \"truck/bus\",\n",
    "    \"ambu\": \"truck/bus\",\n",
    "    \"fdny\": \"truck/bus\",\n",
    "    \"multi-wheeled vehicle\": \"other\",\n",
    "    \"usps\": \"truck/bus\",\n",
    "    \"trailer\": \"other\",\n",
    "    \"limo\": \"car/suv\",\n",
    "    \"tract\": \"truck/bus\",\n",
    "    \"unk\": \"other\",\n",
    "    \"open body\": \"other\",\n",
    "    \"scooter\": \"escooter\",\n",
    "    \"utili\": \"truck/bus\",\n",
    "    \"tow truck\": \"truck/bus\",\n",
    "    \"box t\": \"truck/bus\",\n",
    "    \"firet\": \"truck/bus\",\n",
    "    \"garba\": \"truck/bus\",\n",
    "    \"school bus\": \"truck/bus\",\n",
    "    \"van camper\": \"car/suv\",\n",
    "    \"scoot\": \"escooter\",\n",
    "    \"tow t\": \"truck/bus\",\n",
    "    \"comme\": \"truck/bus\",\n",
    "    \"elect\": \"ebike\",\n",
    "    \"minibike\": \"motorcycle\",\n",
    "    \"fdny ambul\": \"truck/bus\",\n",
    "    \"delv\": \"truck/bus\",\n",
    "    \"bulk agriculture\": \"other\",\n",
    "    \"rv\": \"other\",\n",
    "    \"commercial\": \"truck/bus\",\n",
    "    \"motor\": \"motorcycle\",\n",
    "    \"com\": \"other\",\n",
    "    \"deliv\": \"truck/bus\",\n",
    "    \"forkl\": \"forklift\",\n",
    "    \"unknown\": \"other\",\n",
    "    \"e-bik\": \"ebike\",\n",
    "    \"pedicab\": \"other\",\n",
    "    \"util\": \"truck/bus\",\n",
    "    \"flat\": \"other\",\n",
    "    \"fdny fire\": \"truck/bus\",\n",
    "    \"forklift\": \"forklift\",\n",
    "    \"minicycle\": \"motorcycle\",\n",
    "    \"lunch wagon\": \"truck/bus\",\n",
    "    \"fork\": \"forklift\",\n",
    "    \"pallet\": \"forklift\",\n",
    "    \"firetruck\": \"truck/bus\",\n",
    "    \"schoo\": \"truck/bus\",\n",
    "    \"pick up\": \"truck/bus\",\n",
    "    \"unkno\": \"other\",\n",
    "    \"power\": \"other\",\n",
    "    \"pickup with mounted camper\": \"truck/bus\",\n",
    "    \"fdny truck\": \"truck/bus\"\n",
    "}\n",
    "\n",
    "for i in range(2):\n",
    "    collisions[f\"VEHICLE TYPE CODE {i + 1}\"] = collisions[f\"VEHICLE TYPE CODE {i + 1}\"].replace(vehicle_classifications)\n",
    "\n",
    "print(f\"Current amount of rows: {len(collisions)}\")\n",
    "vehicle_count = sum([Counter(dict(collisions[f\"VEHICLE TYPE CODE {i + 1}\"].value_counts())) for i in range(2)], Counter())\n",
    "print(f\"Final vehicle count:\\n{vehicle_count}\")"
   ]
  },
  {
   "cell_type": "code",
   "execution_count": null,
   "id": "688f4a07-0d7e-4d24-989f-f6f4d64b716d",
   "metadata": {},
   "outputs": [],
   "source": [
    "collisions.to_csv(\"./processed-data/collisions.csv\", index=False)"
   ]
  },
  {
   "cell_type": "markdown",
   "id": "7963d987-2f34-4784-8a76-3f47a1ea62db",
   "metadata": {},
   "source": [
    "## Weather dataset"
   ]
  },
  {
   "cell_type": "code",
   "execution_count": null,
   "id": "5549c91f-3025-4411-81bb-321780a0129f",
   "metadata": {},
   "outputs": [],
   "source": []
  }
 ],
 "metadata": {
  "kernelspec": {
   "display_name": "Python 3 (ipykernel)",
   "language": "python",
   "name": "python3"
  },
  "language_info": {
   "codemirror_mode": {
    "name": "ipython",
    "version": 3
   },
   "file_extension": ".py",
   "mimetype": "text/x-python",
   "name": "python",
   "nbconvert_exporter": "python",
   "pygments_lexer": "ipython3",
   "version": "3.10.9"
  }
 },
 "nbformat": 4,
 "nbformat_minor": 5
}
