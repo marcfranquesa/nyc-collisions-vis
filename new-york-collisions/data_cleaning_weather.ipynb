{
 "cells": [
  {
   "cell_type": "markdown",
   "metadata": {},
   "source": [
    "# Data Processing\n",
    "Processing weather dataset in this notebook"
   ]
  },
  {
   "cell_type": "code",
   "execution_count": null,
   "metadata": {},
   "outputs": [],
   "source": [
    "# Initial imports\n",
    "import pandas as pd\n"
   ]
  },
  {
   "cell_type": "markdown",
   "metadata": {},
   "source": [
    "## Weather dataset"
   ]
  },
  {
   "cell_type": "code",
   "execution_count": null,
   "metadata": {},
   "outputs": [],
   "source": [
    "weather_2018 = pd.read_csv(\"./original-data/NYC_weather_2018.csv\")\n",
    "weather_2020 = pd.read_csv(\"./original-data/NYC_weather_2020.csv\")\n",
    "\n",
    "# concatenate the two dataframes\n",
    "weather = pd.concat([weather_2018, weather_2020], ignore_index=True)\n",
    "\n",
    "# print the concatenated dataframe\n",
    "print(weather.columns)\n"
   ]
  },
  {
   "cell_type": "code",
   "execution_count": null,
   "metadata": {},
   "outputs": [],
   "source": [
    "print(weather)"
   ]
  },
  {
   "cell_type": "code",
   "execution_count": null,
   "metadata": {},
   "outputs": [],
   "source": [
    "print(weather.isna().sum())"
   ]
  },
  {
   "cell_type": "markdown",
   "metadata": {},
   "source": [
    "borrem les següents columnes:\n",
    "station <br>\n",
    "dwpf <br>\n",
    "drct <br>\n",
    "alti <br>\n",
    "gust <br>\n",
    "skyc1 <br>\n",
    "skyc2 <br>\n",
    "skyc3 <br>\n",
    "skyc4 <br>\n",
    "sky1 <br>\n",
    "skyl2 <br>\n",
    "skyl3 <br>\n",
    "skyl4 <br>\n",
    "wxcodes <br>\n",
    "feel <br>\n",
    "ice_accretion_1hr <br>\n",
    "ice_accretion_3hr <br>\n",
    "ice_accretion_6hr <br>\n",
    "peak_wind_gust <br>\n",
    "peak_wind_drct <br>\n",
    "peak_wind_time <br>\n",
    "metar <br>\n",
    "snowdepth <br>"
   ]
  },
  {
   "cell_type": "code",
   "execution_count": null,
   "metadata": {},
   "outputs": [],
   "source": [
    "# drop the columns that are not needed\n",
    "weather.drop(['station', 'dwpf', 'drct', 'alti', 'gust', 'skyc1', 'skyc2', 'skyc3', 'skyc4', 'skyl1', 'skyl2', 'skyl3', 'skyl4', 'wxcodes', 'feel', 'ice_accretion_1hr', 'ice_accretion_3hr', 'ice_accretion_6hr', 'peak_wind_gust', 'peak_wind_drct', 'peak_wind_time', 'metar', 'snowdepth'], axis=1, inplace=True)\n",
    "print(weather.isna().sum())"
   ]
  },
  {
   "cell_type": "code",
   "execution_count": null,
   "metadata": {},
   "outputs": [],
   "source": [
    "print(weather)"
   ]
  }
 ],
 "metadata": {
  "kernelspec": {
   "display_name": "Python 3",
   "language": "python",
   "name": "python3"
  },
  "language_info": {
   "codemirror_mode": {
    "name": "ipython",
    "version": 3
   },
   "file_extension": ".py",
   "mimetype": "text/x-python",
   "name": "python",
   "nbconvert_exporter": "python",
   "pygments_lexer": "ipython3",
   "version": "3.11.5"
  }
 },
 "nbformat": 4,
 "nbformat_minor": 2
}
