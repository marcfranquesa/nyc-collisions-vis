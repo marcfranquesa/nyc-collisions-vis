{
 "cells": [
  {
   "cell_type": "markdown",
   "metadata": {},
   "source": [
    "# Data Processing\n",
    "Processing weather dataset in this notebook"
   ]
  },
  {
   "cell_type": "code",
   "execution_count": 40,
   "metadata": {},
   "outputs": [],
   "source": [
    "# Initial imports\n",
    "import pandas as pd\n"
   ]
  },
  {
   "cell_type": "markdown",
   "metadata": {},
   "source": [
    "## Weather dataset"
   ]
  },
  {
   "cell_type": "code",
   "execution_count": 41,
   "metadata": {},
   "outputs": [
    {
     "name": "stdout",
     "output_type": "stream",
     "text": [
      "Index(['station', 'valid', 'tmpf', 'dwpf', 'relh', 'drct', 'sknt', 'p01i',\n",
      "       'alti', 'mslp', 'vsby', 'gust', 'skyc1', 'skyc2', 'skyc3', 'skyc4',\n",
      "       'skyl1', 'skyl2', 'skyl3', 'skyl4', 'wxcodes', 'ice_accretion_1hr',\n",
      "       'ice_accretion_3hr', 'ice_accretion_6hr', 'peak_wind_gust',\n",
      "       'peak_wind_drct', 'peak_wind_time', 'feel', 'metar', 'snowdepth'],\n",
      "      dtype='object')\n"
     ]
    }
   ],
   "source": [
    "weather_2018 = pd.read_csv(\"./original-data/NYC_weather_2018.csv\")\n",
    "weather_2020 = pd.read_csv(\"./original-data/NYC_weather_2020.csv\")\n",
    "\n",
    "# concatenate the two dataframes\n",
    "weather = pd.concat([weather_2018, weather_2020], ignore_index=True)\n",
    "\n",
    "# print the concatenated dataframe\n",
    "print(weather.columns)\n"
   ]
  },
  {
   "cell_type": "code",
   "execution_count": 42,
   "metadata": {},
   "outputs": [
    {
     "name": "stdout",
     "output_type": "stream",
     "text": [
      "     station             valid  tmpf  dwpf   relh  drct  sknt  p01i   alti   \n",
      "0        NYC  2018-06-01 00:51  65.0  64.0  96.90   0.0   0.0  0.00  29.92  \\\n",
      "1        NYC  2018-06-01 01:51  66.0  64.0  93.26   NaN   3.0  0.00  29.90   \n",
      "2        NYC  2018-06-01 02:12  66.0  65.0  96.24   0.0   0.0  0.00  29.90   \n",
      "3        NYC  2018-06-01 02:42  66.0  65.0  96.24  80.0   3.0  0.00  29.89   \n",
      "4        NYC  2018-06-01 02:51  66.0  65.0  96.24   0.0   0.0  0.00  29.88   \n",
      "...      ...               ...   ...   ...    ...   ...   ...   ...    ...   \n",
      "7302     NYC  2020-09-29 23:07  71.0  70.0  96.32   NaN   4.0  0.06  29.69   \n",
      "7303     NYC  2020-09-29 23:35  71.0  70.0  96.32   NaN   5.0  0.08  29.67   \n",
      "7304     NYC  2020-09-29 23:48  71.6  69.8  94.06   NaN   4.0  0.09  29.66   \n",
      "7305     NYC  2020-09-29 23:51  71.0  70.0  96.32   NaN   4.0  0.10  29.66   \n",
      "7306     NYC  2020-09-29 23:58  71.0  70.0  96.32   NaN   3.0  0.01  29.66   \n",
      "\n",
      "        mslp  ...  wxcodes  ice_accretion_1hr ice_accretion_3hr   \n",
      "0     1012.2  ...       BR                NaN               NaN  \\\n",
      "1     1011.7  ...       BR                NaN               NaN   \n",
      "2        NaN  ...       BR                NaN               NaN   \n",
      "3        NaN  ...       BR                NaN               NaN   \n",
      "4     1011.0  ...       BR                NaN               NaN   \n",
      "...      ...  ...      ...                ...               ...   \n",
      "7302     NaN  ...   -RA BR                NaN               NaN   \n",
      "7303     NaN  ...   -RA BR                NaN               NaN   \n",
      "7304     NaN  ...   -RA BR                NaN               NaN   \n",
      "7305  1003.5  ...   -RA BR                NaN               NaN   \n",
      "7306     NaN  ...   -RA BR                NaN               NaN   \n",
      "\n",
      "     ice_accretion_6hr peak_wind_gust  peak_wind_drct  peak_wind_time  feel   \n",
      "0                  NaN            NaN             NaN             NaN  64.9  \\\n",
      "1                  NaN            NaN             NaN             NaN  66.0   \n",
      "2                  NaN            NaN             NaN             NaN  66.0   \n",
      "3                  NaN            NaN             NaN             NaN  66.0   \n",
      "4                  NaN            NaN             NaN             NaN  66.0   \n",
      "...                ...            ...             ...             ...   ...   \n",
      "7302               NaN            NaN             NaN             NaN  71.1   \n",
      "7303               NaN            NaN             NaN             NaN  71.1   \n",
      "7304               NaN            NaN             NaN             NaN  71.6   \n",
      "7305               NaN            NaN             NaN             NaN  71.1   \n",
      "7306               NaN            NaN             NaN             NaN  71.1   \n",
      "\n",
      "                                                  metar  snowdepth  \n",
      "0     KNYC 010451Z AUTO 00000KT 3SM BR OVC002 18/18 ...        NaN  \n",
      "1     KNYC 010551Z VRB03KT 3SM BR OVC004 19/18 A2990...        NaN  \n",
      "2     KNYC 010612Z 00000KT 2 1/2SM BR OVC003 19/18 A...        NaN  \n",
      "3     KNYC 010642Z 08003KT 1 1/4SM BR OVC002 19/18 A...        NaN  \n",
      "4     KNYC 010651Z 00000KT 3/4SM BR OVC002 19/18 A29...        NaN  \n",
      "...                                                 ...        ...  \n",
      "7302  KNYC 300307Z AUTO VRB04KT 3SM -RA BR OVC008 22...        NaN  \n",
      "7303  KNYC 300335Z AUTO VRB05KT 2SM -RA BR OVC007 22...        NaN  \n",
      "7304  KNYC 300348Z AUTO VRB04KT 3SM -RA BR OVC007 22...        NaN  \n",
      "7305  KNYC 300351Z AUTO VRB04KT 3SM -RA BR OVC007 22...        NaN  \n",
      "7306  KNYC 300358Z AUTO VRB03KT 2 1/2SM -RA BR OVC00...        NaN  \n",
      "\n",
      "[7307 rows x 30 columns]\n"
     ]
    }
   ],
   "source": [
    "print(weather)"
   ]
  },
  {
   "cell_type": "code",
   "execution_count": 43,
   "metadata": {},
   "outputs": [
    {
     "name": "stdout",
     "output_type": "stream",
     "text": [
      "station                 0\n",
      "valid                   0\n",
      "tmpf                   15\n",
      "dwpf                   15\n",
      "relh                   15\n",
      "drct                 3410\n",
      "sknt                 1102\n",
      "p01i                  513\n",
      "alti                   17\n",
      "mslp                 1561\n",
      "vsby                   22\n",
      "gust                 7020\n",
      "skyc1                 262\n",
      "skyc2                5283\n",
      "skyc3                6390\n",
      "skyc4                7307\n",
      "skyl1                3151\n",
      "skyl2                5283\n",
      "skyl3                6390\n",
      "skyl4                7307\n",
      "wxcodes              5772\n",
      "ice_accretion_1hr    7307\n",
      "ice_accretion_3hr    7307\n",
      "ice_accretion_6hr    7307\n",
      "peak_wind_gust       7273\n",
      "peak_wind_drct       7273\n",
      "peak_wind_time       7273\n",
      "feel                   15\n",
      "metar                   0\n",
      "snowdepth            7307\n",
      "dtype: int64\n"
     ]
    }
   ],
   "source": [
    "print(weather.isna().sum())"
   ]
  },
  {
   "cell_type": "markdown",
   "metadata": {},
   "source": [
    "borrem les següents columnes:\n",
    "station <br>\n",
    "dwpf <br>\n",
    "drct <br>\n",
    "alti <br>\n",
    "gust <br>\n",
    "skyc1 <br>\n",
    "skyc2 <br>\n",
    "skyc3 <br>\n",
    "skyc4 <br>\n",
    "sky1 <br>\n",
    "skyl2 <br>\n",
    "skyl3 <br>\n",
    "skyl4 <br>\n",
    "wxcodes <br>\n",
    "feel <br>\n",
    "ice_accretion_1hr <br>\n",
    "ice_accretion_3hr <br>\n",
    "ice_accretion_6hr <br>\n",
    "peak_wind_gust <br>\n",
    "peak_wind_drct <br>\n",
    "peak_wind_time <br>\n",
    "metar <br>\n",
    "snowdepth <br>"
   ]
  },
  {
   "cell_type": "code",
   "execution_count": 44,
   "metadata": {},
   "outputs": [
    {
     "name": "stdout",
     "output_type": "stream",
     "text": [
      "valid       0\n",
      "tmpf       15\n",
      "relh       15\n",
      "sknt     1102\n",
      "p01i      513\n",
      "mslp     1561\n",
      "vsby       22\n",
      "dtype: int64\n"
     ]
    }
   ],
   "source": [
    "# drop the columns that are not needed\n",
    "weather.drop(['station', 'dwpf', 'drct', 'alti', 'gust', 'skyc1', 'skyc2', 'skyc3', 'skyc4', 'skyl1', 'skyl2', 'skyl3', 'skyl4', 'wxcodes', 'feel', 'ice_accretion_1hr', 'ice_accretion_3hr', 'ice_accretion_6hr', 'peak_wind_gust', 'peak_wind_drct', 'peak_wind_time', 'metar', 'snowdepth'], axis=1, inplace=True)\n",
    "print(weather.isna().sum())"
   ]
  },
  {
   "cell_type": "code",
   "execution_count": 45,
   "metadata": {},
   "outputs": [
    {
     "name": "stdout",
     "output_type": "stream",
     "text": [
      "                 valid  tmpf   relh  sknt  p01i    mslp  vsby\n",
      "0     2018-06-01 00:51  65.0  96.90   0.0  0.00  1012.2  3.00\n",
      "1     2018-06-01 01:51  66.0  93.26   3.0  0.00  1011.7  3.00\n",
      "2     2018-06-01 02:12  66.0  96.24   0.0  0.00     NaN  2.50\n",
      "3     2018-06-01 02:42  66.0  96.24   3.0  0.00     NaN  1.25\n",
      "4     2018-06-01 02:51  66.0  96.24   0.0  0.00  1011.0  0.75\n",
      "...                ...   ...    ...   ...   ...     ...   ...\n",
      "7302  2020-09-29 23:07  71.0  96.32   4.0  0.06     NaN  3.00\n",
      "7303  2020-09-29 23:35  71.0  96.32   5.0  0.08     NaN  2.00\n",
      "7304  2020-09-29 23:48  71.6  94.06   4.0  0.09     NaN  3.00\n",
      "7305  2020-09-29 23:51  71.0  96.32   4.0  0.10  1003.5  3.00\n",
      "7306  2020-09-29 23:58  71.0  96.32   3.0  0.01     NaN  2.50\n",
      "\n",
      "[7307 rows x 7 columns]\n"
     ]
    }
   ],
   "source": [
    "print(weather)"
   ]
  }
 ],
 "metadata": {
  "kernelspec": {
   "display_name": "Python 3",
   "language": "python",
   "name": "python3"
  },
  "language_info": {
   "codemirror_mode": {
    "name": "ipython",
    "version": 3
   },
   "file_extension": ".py",
   "mimetype": "text/x-python",
   "name": "python",
   "nbconvert_exporter": "python",
   "pygments_lexer": "ipython3",
   "version": "3.11.6"
  }
 },
 "nbformat": 4,
 "nbformat_minor": 2
}
